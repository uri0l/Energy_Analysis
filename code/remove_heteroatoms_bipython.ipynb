{
 "cells": [
  {
   "cell_type": "markdown",
   "id": "552d4358",
   "metadata": {},
   "source": [
    "### Remove all heteroatoms using Biopython (basic)"
   ]
  },
  {
   "cell_type": "markdown",
   "id": "10915043",
   "metadata": {},
   "source": [
    "#### We can know if a residue is a heteroatom with the following code.\n",
    "- First, create a PDBParser object.\n",
    "- Then create a structure object from a PDB file\n",
    "- Create a new structure to store only the non-hetero atoms"
   ]
  },
  {
   "cell_type": "code",
   "execution_count": 1,
   "id": "a007dd4f",
   "metadata": {
    "scrolled": true
   },
   "outputs": [],
   "source": [
    "from Bio.PDB import *\n",
    "\n",
    "parser = PDBParser(QUIET=True)\n",
    "\n",
    "structure = parser.get_structure(\"6m0j\", \"6m0j.pdb\")\n",
    "\n",
    "# Create a new structure to store only the non-hetero atoms\n",
    "filtered_structure = structure.copy() "
   ]
  },
  {
   "cell_type": "markdown",
   "id": "4b343792",
   "metadata": {},
   "source": [
    "1. Iterate through the structure and add the non-hetero (the remaining ones) into a list. When accessing the resdidues, it provides a tuple where (\"H_FLAG\",res_nº,\"insertion_code\"). (The insertion code is usually empty)\n",
    "\n",
    "    - If the H_FLAG is an empty string, then the residue is part of the main chain.\n",
    "    - If the H_FLAG is non-empty string, the residue is a heteroatom\n",
    "\n",
    "\n",
    "2. Remove all heteroatoms from the structure\n",
    "\n",
    "3. Save the result (filtered structure)"
   ]
  },
  {
   "cell_type": "markdown",
   "id": "f7de12ec",
   "metadata": {},
   "source": [
    "We want to remove all the non-heteroatoms residues from the list of residues, add them in a list. Afterwards we have to remove the  atom itslef , since we only \"selected\" the parent residues of the atoms.\n",
    "\n",
    "*Residues contain multiple atoms \n",
    "\n",
    "Here's an explanation of what each part does:\n",
    "\n",
    "- atom : is the specific atom you want to remove from its parent residue. \n",
    "- atom.parent: retrieves the parent of the atom, which is the residue to which the atom belongs. \n",
    "- atom.detach_parent() removes the atom from its parent residue. \n",
    "\n",
    "https://biopython.org/docs/1.76/api/Bio.PDB.Entity.html\n"
   ]
  },
  {
   "cell_type": "code",
   "execution_count": 5,
   "id": "e765a2cc",
   "metadata": {
    "scrolled": true
   },
   "outputs": [],
   "source": [
    "for model in structure:\n",
    "    for chain in model:\n",
    "        for residue in chain:\n",
    "            if residue.id[0] == \"\":\n",
    "                filtered_structure.add(residue)\n"
   ]
  },
  {
   "cell_type": "markdown",
   "id": "bfbe0ee9",
   "metadata": {},
   "source": [
    "It technically does the same thing, since the code above returns some ERRORS"
   ]
  },
  {
   "cell_type": "code",
   "execution_count": 3,
   "id": "d3586d21",
   "metadata": {},
   "outputs": [],
   "source": [
    "# Iterate through the residues and collect non-hetero residues\n",
    "\n",
    "non_hetero_residues = []\n",
    "\n",
    "for residue in filtered_structure.get_residues():\n",
    "    R = residue.id\n",
    "    if R[0] == \"\":\n",
    "        non_hetero_residues.append(residue)    # Remove all heteroatoms from the filtered structure\n",
    "for residue in non_hetero_residues:\n",
    "    for atom in residue.get_atoms():\n",
    "        atom.detach_parent()"
   ]
  },
  {
   "cell_type": "markdown",
   "id": "0571470f",
   "metadata": {},
   "source": [
    "To save the filtered structure using PDBIO, a tool needed to write structures in PDB format"
   ]
  },
  {
   "cell_type": "code",
   "execution_count": 6,
   "id": "63f0581f",
   "metadata": {},
   "outputs": [],
   "source": [
    "# Save the filtered structure using PDBIO\n",
    "io = PDBIO()\n",
    "io.set_structure(filtered_structure)\n",
    "io.save(\"6m0j_no_hetero.pdb\")"
   ]
  },
  {
   "cell_type": "markdown",
   "id": "c824eb55",
   "metadata": {},
   "source": [
    "### Analyse the result\n",
    "\n",
    "After running the code, if we take a look at the resulting pdb file, we can see it is not entirely prepared for our energy analysis. If we compare it with the fixed_pdb of JLGELPI there are some differences:\n",
    "\n",
    "- there are still some residues left on the exterior of the protein comples, mostly HOH (waters) but also NAG residues\n",
    "\n",
    "- theres a ZN molecule in almost in the middle of the complex"
   ]
  }
 ],
 "metadata": {
  "kernelspec": {
   "display_name": "Python 3 (ipykernel)",
   "language": "python",
   "name": "python3"
  },
  "language_info": {
   "codemirror_mode": {
    "name": "ipython",
    "version": 3
   },
   "file_extension": ".py",
   "mimetype": "text/x-python",
   "name": "python",
   "nbconvert_exporter": "python",
   "pygments_lexer": "ipython3",
   "version": "3.9.12"
  }
 },
 "nbformat": 4,
 "nbformat_minor": 5
}
